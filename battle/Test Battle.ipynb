{
 "cells": [
  {
   "cell_type": "markdown",
   "metadata": {},
   "source": [
    "# Example Battles\n",
    "\n",
    "This notebook demonstrates battles between Pokemon and shows the verbose output."
   ]
  },
  {
   "cell_type": "code",
   "execution_count": 1,
   "metadata": {},
   "outputs": [],
   "source": [
    "import sys\n",
    "\n",
    "import numpy as np\n",
    "\n",
    "sys.path.append('pokemon_simulate')\n",
    "sys.path.append('DQNAgent_battle')"
   ]
  },
  {
   "cell_type": "code",
   "execution_count": 2,
   "metadata": {},
   "outputs": [],
   "source": [
    "import pokemon_simulate\n",
    "from pokemon_simulate import *\n",
    "from DQNAgent_battle import *\n",
    "\n",
    "pokemon_simulate.VERBOSE = True"
   ]
  },
  {
   "cell_type": "code",
   "execution_count": 3,
   "metadata": {},
   "outputs": [],
   "source": [
    "def print_state(current_state):\n",
    "    print(f\"\"\"\n",
    "                == == == == == == == == =\n",
    "                Pokemon: {current_state[0].name}\n",
    "                == == == == == == == == =\n",
    "                Level: {current_state[0].level}\n",
    "                Types: {current_state[0].types}\n",
    "                HP: {current_state[0].current_hp}\n",
    "                Speed: {current_state[0].speed}\n",
    "                Attack: {current_state[0].attack}\n",
    "                Defense: {current_state[0].defense}\n",
    "                Sp.Attack: {current_state[0].special_attack}\n",
    "                Sp.Defense: {current_state[0].special_defense}\n",
    "                == == =\n",
    "                Moves\n",
    "                == == =\n",
    "                {[(move.name, move.current_pp, move.pp) for move in current_state[0].moves]}\n",
    "            \"\"\")\n",
    "    print(f\"\"\"\n",
    "                == == == == == == == == =\n",
    "                Pokemon: {current_state[1].name}\n",
    "                == == == == == == == == =\n",
    "                Level: {current_state[1].level}\n",
    "                Types: {current_state[1].types}\n",
    "                HP: {current_state[1].current_hp}\n",
    "                Speed: {current_state[1].speed}\n",
    "                Attack: {current_state[1].attack}\n",
    "                Defense: {current_state[1].defense}\n",
    "                Sp.Attack: {current_state[1].special_attack}\n",
    "                Sp.Defense: {current_state[1].special_defense}\n",
    "                == == =\n",
    "                Moves\n",
    "                == == =\n",
    "                {[(move.name, move.current_pp, move.pp) for move in current_state[1].moves]}\n",
    "            \"\"\")"
   ]
  },
  {
   "cell_type": "markdown",
   "metadata": {},
   "source": [
    "### Load model in memory"
   ]
  },
  {
   "cell_type": "code",
   "execution_count": 4,
   "metadata": {
    "scrolled": true
   },
   "outputs": [],
   "source": [
    "agent = DQNAgent()\n",
    "agent.load_model(\"C:\\\\Users\\\\darth\\\\PycharmProjects\\\\pokemonBot\\\\models_saved\\\\battle\\\\Yoyo__1919.05max_1919.05avg_1919.05min__47_9_win_rate_1605082033.model\")\n",
    "env = BlobEnv(100)\n",
    "env.load_battles(r'battles_100.pickle')\n"
   ]
  },
  {
   "cell_type": "code",
   "execution_count": 5,
   "metadata": {},
   "outputs": [
    {
     "name": "stdout",
     "output_type": "stream",
     "text": [
      "\n",
      "                == == == == == == == == =\n",
      "                Pokemon: charmander\n",
      "                == == == == == == == == =\n",
      "                Level: 20\n",
      "                Types: [9, 0]\n",
      "                HP: 45\n",
      "                Speed: 31\n",
      "                Attack: 25\n",
      "                Defense: 22\n",
      "                Sp.Attack: 29\n",
      "                Sp.Defense: 25\n",
      "                == == =\n",
      "                Moves\n",
      "                == == =\n",
      "                [('ember', 25, 25), ('scratch', 35, 35), ('fire-spin', 15, 15), ('slash', 20, 20)]\n",
      "            \n",
      "\n",
      "                == == == == == == == == =\n",
      "                Pokemon: bulbasaur\n",
      "                == == == == == == == == =\n",
      "                Level: 10\n",
      "                Types: [7, 11]\n",
      "                HP: 29\n",
      "                Speed: 14\n",
      "                Attack: 14\n",
      "                Defense: 14\n",
      "                Sp.Attack: 18\n",
      "                Sp.Defense: 18\n",
      "                == == =\n",
      "                Moves\n",
      "                == == =\n",
      "                [('tackle', 35, 35), ('vine-whip', 25, 25), ('razor-leaf', 25, 25), ('solar-beam', 10, 10)]\n",
      "            \n"
     ]
    }
   ],
   "source": [
    "## Custom battle ##\n",
    "pokemon_a = Pokemon('charmander', 20)\n",
    "pokemon_b = Pokemon('bulbasaur', 10)\n",
    "battle = (pokemon_a, pokemon_b)\n",
    "print_state(battle)"
   ]
  },
  {
   "cell_type": "markdown",
   "metadata": {},
   "source": [
    "## Battle"
   ]
  },
  {
   "cell_type": "code",
   "execution_count": 6,
   "metadata": {},
   "outputs": [
    {
     "name": "stdout",
     "output_type": "stream",
     "text": [
      "Input: [[  9.   0.  45.  25.  22.  29.  18.  31.  52.  10.  83. 163.  25.  35.\n",
      "   15.  20.  -1.  -1.  -1.  -1. 100. 100.  85. 100.  40.  40.  35.  70.\n",
      "   29.   7.  11.]]\n",
      "Prediction: [11112.707 11197.158  9806.975 10791.354]\n",
      "Pokemon a chooses scratch\n",
      "MODIFIER: 1.0\n",
      "charmander damaged bulbasaur with scratch for 14.0 hp\n",
      "charmander pp for scratch is 34/35\n",
      "bulbasaur hp is 15.0/29\n",
      "Pokemon b chooses solar-beam\n",
      "MODIFIER: 0.5\n",
      "bulbasaur damaged charmander with solar-beam for 7.0 hp\n",
      "bulbasaur pp for solar-beam is 9/10\n",
      "charmander hp is 38.0/45\n",
      "\n",
      "                == == == == == == == == =\n",
      "                Pokemon: charmander\n",
      "                == == == == == == == == =\n",
      "                Level: 20\n",
      "                Types: [9, 0]\n",
      "                HP: 38.0\n",
      "                Speed: 31\n",
      "                Attack: 25\n",
      "                Defense: 22\n",
      "                Sp.Attack: 29\n",
      "                Sp.Defense: 25\n",
      "                == == =\n",
      "                Moves\n",
      "                == == =\n",
      "                [('ember', 25, 25), ('scratch', 34, 35), ('fire-spin', 15, 15), ('slash', 20, 20)]\n",
      "            \n",
      "\n",
      "                == == == == == == == == =\n",
      "                Pokemon: bulbasaur\n",
      "                == == == == == == == == =\n",
      "                Level: 10\n",
      "                Types: [7, 11]\n",
      "                HP: 15.0\n",
      "                Speed: 14\n",
      "                Attack: 14\n",
      "                Defense: 14\n",
      "                Sp.Attack: 18\n",
      "                Sp.Defense: 18\n",
      "                == == =\n",
      "                Moves\n",
      "                == == =\n",
      "                [('tackle', 35, 35), ('vine-whip', 25, 25), ('razor-leaf', 25, 25), ('solar-beam', 9, 10)]\n",
      "            \n",
      "Input: [[  9.   0.  38.  25.  22.  29.  18.  31.  52.  10.  83. 163.  25.  34.\n",
      "   15.  20.  -1.  -1.  -1.  -1. 100. 100.  85. 100.  40.  40.  35.  70.\n",
      "   15.   7.  11.]]\n",
      "Prediction: [11123.83  11161.764  9788.865 10781.518]\n",
      "Pokemon b chooses razor-leaf\n",
      "MODIFIER: 0.5\n",
      "bulbasaur damaged charmander with razor-leaf for 3.0 hp\n",
      "bulbasaur pp for razor-leaf is 24/25\n",
      "charmander hp is 35.0/45\n",
      "Pokemon a chooses scratch\n",
      "MODIFIER: 1.0\n",
      "charmander damaged bulbasaur with scratch for 14.0 hp\n",
      "charmander pp for scratch is 33/35\n",
      "bulbasaur hp is 1.0/29\n",
      "\n",
      "                == == == == == == == == =\n",
      "                Pokemon: charmander\n",
      "                == == == == == == == == =\n",
      "                Level: 20\n",
      "                Types: [9, 0]\n",
      "                HP: 35.0\n",
      "                Speed: 31\n",
      "                Attack: 25\n",
      "                Defense: 22\n",
      "                Sp.Attack: 29\n",
      "                Sp.Defense: 25\n",
      "                == == =\n",
      "                Moves\n",
      "                == == =\n",
      "                [('ember', 25, 25), ('scratch', 33, 35), ('fire-spin', 15, 15), ('slash', 20, 20)]\n",
      "            \n",
      "\n",
      "                == == == == == == == == =\n",
      "                Pokemon: bulbasaur\n",
      "                == == == == == == == == =\n",
      "                Level: 10\n",
      "                Types: [7, 11]\n",
      "                HP: 1.0\n",
      "                Speed: 14\n",
      "                Attack: 14\n",
      "                Defense: 14\n",
      "                Sp.Attack: 18\n",
      "                Sp.Defense: 18\n",
      "                == == =\n",
      "                Moves\n",
      "                == == =\n",
      "                [('tackle', 35, 35), ('vine-whip', 25, 25), ('razor-leaf', 24, 25), ('solar-beam', 9, 10)]\n",
      "            \n",
      "Input: [[  9.   0.  35.  25.  22.  29.  18.  31.  52.  10.  83. 163.  25.  33.\n",
      "   15.  20.  -1.  -1.  -1.  -1. 100. 100.  85. 100.  40.  40.  35.  70.\n",
      "    1.   7.  11.]]\n",
      "Prediction: [11137.426 11130.042  9768.012 10760.244]\n",
      "Pokemon a chooses ember\n",
      "MODIFIER: 2.0\n",
      "charmander damaged bulbasaur with ember for 40.0 hp\n",
      "charmander pp for ember is 24/25\n",
      "bulbasaur hp is -39.0/29\n",
      "\n",
      "                == == == == == == == == =\n",
      "                Pokemon: charmander\n",
      "                == == == == == == == == =\n",
      "                Level: 20\n",
      "                Types: [9, 0]\n",
      "                HP: 35.0\n",
      "                Speed: 31\n",
      "                Attack: 25\n",
      "                Defense: 22\n",
      "                Sp.Attack: 29\n",
      "                Sp.Defense: 25\n",
      "                == == =\n",
      "                Moves\n",
      "                == == =\n",
      "                [('ember', 24, 25), ('scratch', 33, 35), ('fire-spin', 15, 15), ('slash', 20, 20)]\n",
      "            \n",
      "\n",
      "                == == == == == == == == =\n",
      "                Pokemon: bulbasaur\n",
      "                == == == == == == == == =\n",
      "                Level: 10\n",
      "                Types: [7, 11]\n",
      "                HP: -39.0\n",
      "                Speed: 14\n",
      "                Attack: 14\n",
      "                Defense: 14\n",
      "                Sp.Attack: 18\n",
      "                Sp.Defense: 18\n",
      "                == == =\n",
      "                Moves\n",
      "                == == =\n",
      "                [('tackle', 35, 35), ('vine-whip', 25, 25), ('razor-leaf', 24, 25), ('solar-beam', 9, 10)]\n",
      "            \n"
     ]
    }
   ],
   "source": [
    "#battle = env.battles[2]\n",
    "#print_state(battle)\n",
    "current_state = battle\n",
    "while battle[0].current_hp > 0 and battle[1].current_hp >0:\n",
    "    env.battles = [battle]\n",
    "    action = np.argmax(agent.get_qs(current_state))\n",
    "    new_state, reward, done, outcome = env.step(battle, action)\n",
    "    new_state = current_state\n",
    "    print_state(new_state)"
   ]
  },
  {
   "cell_type": "markdown",
   "metadata": {},
   "source": [
    "## Machamp VS Snorlax"
   ]
  },
  {
   "cell_type": "code",
   "execution_count": null,
   "metadata": {},
   "outputs": [],
   "source": [
    "machamp = Pokemon('machamp')\n",
    "snorlax = Pokemon('snorlax')\n",
    "battle(machamp, snorlax)"
   ]
  },
  {
   "cell_type": "markdown",
   "metadata": {},
   "source": [
    "## Magikarp VS Mewtwo"
   ]
  },
  {
   "cell_type": "code",
   "execution_count": null,
   "metadata": {},
   "outputs": [],
   "source": [
    "magikarp = Pokemon('magikarp')\n",
    "mewtwo = Pokemon('mewtwo')\n",
    "battle(magikarp, mewtwo)"
   ]
  }
 ],
 "metadata": {
  "kernelspec": {
   "display_name": "Python 3",
   "language": "python",
   "name": "python3"
  },
  "language_info": {
   "codemirror_mode": {
    "name": "ipython",
    "version": 3
   },
   "file_extension": ".py",
   "mimetype": "text/x-python",
   "name": "python",
   "nbconvert_exporter": "python",
   "pygments_lexer": "ipython3",
   "version": "3.8.0"
  }
 },
 "nbformat": 4,
 "nbformat_minor": 4
}
