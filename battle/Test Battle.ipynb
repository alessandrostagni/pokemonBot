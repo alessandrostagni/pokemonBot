{
 "cells": [
  {
   "cell_type": "markdown",
   "metadata": {},
   "source": [
    "# Example Battles\n",
    "\n",
    "This notebook demonstrates battles between Pokemon and shows the verbose output."
   ]
  },
  {
   "cell_type": "code",
   "execution_count": 1,
   "metadata": {},
   "outputs": [],
   "source": [
    "import sys\n",
    "\n",
    "import numpy as np\n",
    "\n",
    "sys.path.append('pokemon_simulate')\n",
    "sys.path.append('DQNAgent_battle')"
   ]
  },
  {
   "cell_type": "code",
   "execution_count": 2,
   "metadata": {},
   "outputs": [],
   "source": [
    "import pokemon_simulate\n",
    "# from pokemon_simulate import *\n",
    "from DQNAgent_dummy import *\n",
    "from dummy_helpers import *\n",
    "from train_helpers import *\n",
    "\n",
    "pokemon_simulate.VERBOSE = True"
   ]
  },
  {
   "cell_type": "markdown",
   "metadata": {},
   "source": [
    "### Load model in memory"
   ]
  },
  {
   "cell_type": "code",
   "execution_count": 3,
   "metadata": {
    "scrolled": true
   },
   "outputs": [],
   "source": [
    "agent = DQNAgent()\n",
    "agent.load_model(f\"episode_146169_reward___99.33_time__1606030230.model\")\n",
    "env = BlobEnv(100,0)\n",
    "env.load_battles(r'battles_dummy_10000.pickle')\n"
   ]
  },
  {
   "cell_type": "code",
   "execution_count": 27,
   "metadata": {},
   "outputs": [
    {
     "name": "stdout",
     "output_type": "stream",
     "text": [
      "\n",
      "                == == == == == == == == =\n",
      "                Pokemon: charmander\n",
      "                == == == == == == == == =\n",
      "                Level: 100\n",
      "                Types: [9, 0]\n",
      "                HP: 188\n",
      "                Speed: 135\n",
      "                Attack: 109\n",
      "                Defense: 91\n",
      "                Sp.Attack: 125\n",
      "                Sp.Defense: 105\n",
      "                == == =\n",
      "                Moves\n",
      "                == == =\n",
      "                [('rage', 'PP: 20/20', 'Power: 20.0'), ('fire-spin', 'PP: 15/15', 'Power: 35.0'), ('ember', 'PP: 25/25', 'Power: 40.0'), ('slash', 'PP: 20/20', 'Power: 70.0')]\n",
      "            \n",
      "\n",
      "                == == == == == == == == =\n",
      "                Pokemon: bulbasaur\n",
      "                == == == == == == == == =\n",
      "                Level: 100\n",
      "                Types: [7, 11]\n",
      "                HP: 200\n",
      "                Speed: 95\n",
      "                Attack: 103\n",
      "                Defense: 103\n",
      "                Sp.Attack: 135\n",
      "                Sp.Defense: 135\n",
      "                == == =\n",
      "                Moves\n",
      "                == == =\n",
      "                [('razor-leaf', 'PP: 25', '25', 'Power: 55.0'), ('tackle', 'PP: 35', '35', 'Power: 40.0'), ('solar-beam', 'PP: 10', '10', 'Power: 120.0'), ('vine-whip', 'PP: 25', '25', 'Power: 45.0')]\n",
      "            \n"
     ]
    }
   ],
   "source": [
    "## Custom battle ##\n",
    "pokemon_a = Pokemon('charmander', 100)\n",
    "pokemon_b = Pokemon('bulbasaur', 100)\n",
    "#battle = env.battles[5]\n",
    "#pokemon_a = battle[0]\n",
    "#pokemon_b = battle[1]\n",
    "battle = (pokemon_a, pokemon_b)\n",
    "print_state(battle)"
   ]
  },
  {
   "cell_type": "markdown",
   "metadata": {},
   "source": [
    "## Battle"
   ]
  },
  {
   "cell_type": "code",
   "execution_count": 28,
   "metadata": {
    "scrolled": true
   },
   "outputs": [
    {
     "name": "stdout",
     "output_type": "stream",
     "text": [
      "Input state: [[  9.   0. 109.  91. 125. 105. 135.  20.  -1. 100.  20.  15.  -1.  85.\n",
      "   35.  25.  -1. 100.  40.  20.  -1. 100.  70. 200.   7.  11.]]\n",
      "Prediction: [42.981346 53.701973 49.94034  63.006214]\n",
      "FIRST ATTACKER:\n",
      "a\n",
      "Pokemon a chooses slash\n",
      "MODIFIER: 1.0\n",
      "charmander damaged bulbasaur with slash for 121.0 hp\n",
      "charmander pp for slash is 19/20\n",
      "bulbasaur hp is 79.0/200\n",
      "Pokemon b chooses razor-leaf\n",
      "MODIFIER: 0.5\n",
      "bulbasaur damaged charmander with razor-leaf for 66.0 hp\n",
      "bulbasaur pp for razor-leaf is 24/25\n",
      "charmander hp is 122.0/188\n",
      "Input state: [[  9.   0. 109.  91. 125. 105. 135.  20.  -1. 100.  20.  15.  -1.  85.\n",
      "   35.  25.  -1. 100.  40.  19.  -1. 100.  70.  79.   7.  11.]]\n",
      "Prediction: [-7.215742   5.357607   1.2930288 14.279202 ]\n",
      "FIRST ATTACKER:\n",
      "a\n",
      "Pokemon a chooses slash\n",
      "MODIFIER: 1.0\n",
      "charmander damaged bulbasaur with slash for 113.0 hp\n",
      "charmander pp for slash is 18/20\n",
      "bulbasaur hp is -34.0/200\n"
     ]
    }
   ],
   "source": [
    "current_state = battle\n",
    "while current_state[0].current_hp > 0 and current_state[1].current_hp >0:\n",
    "    env.battles = [battle]\n",
    "    action = np.argmax(agent.get_qs(current_state))\n",
    "    new_state, reward, done, outcome = env.step_real_battle(current_state, action)\n",
    "    current_state = new_state"
   ]
  },
  {
   "cell_type": "markdown",
   "metadata": {},
   "source": [
    "## Machamp VS Snorlax"
   ]
  },
  {
   "cell_type": "code",
   "execution_count": null,
   "metadata": {},
   "outputs": [],
   "source": [
    "machamp = Pokemon('machamp')\n",
    "snorlax = Pokemon('snorlax')\n",
    "battle(machamp, snorlax)"
   ]
  },
  {
   "cell_type": "markdown",
   "metadata": {},
   "source": [
    "## Magikarp VS Mewtwo"
   ]
  },
  {
   "cell_type": "code",
   "execution_count": null,
   "metadata": {},
   "outputs": [],
   "source": [
    "magikarp = Pokemon('magikarp')\n",
    "mewtwo = Pokemon('mewtwo')\n",
    "battle(magikarp, mewtwo)"
   ]
  }
 ],
 "metadata": {
  "kernelspec": {
   "display_name": "Python 3",
   "language": "python",
   "name": "python3"
  },
  "language_info": {
   "codemirror_mode": {
    "name": "ipython",
    "version": 3
   },
   "file_extension": ".py",
   "mimetype": "text/x-python",
   "name": "python",
   "nbconvert_exporter": "python",
   "pygments_lexer": "ipython3",
   "version": "3.8.0"
  }
 },
 "nbformat": 4,
 "nbformat_minor": 4
}
