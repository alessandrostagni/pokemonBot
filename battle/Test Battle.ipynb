{
 "cells": [
  {
   "cell_type": "markdown",
   "metadata": {},
   "source": [
    "# Example Battles\n",
    "\n",
    "This notebook demonstrates battles between Pokemon and shows the verbose output."
   ]
  },
  {
   "cell_type": "code",
   "execution_count": 58,
   "metadata": {},
   "outputs": [],
   "source": [
    "import sys\n",
    "\n",
    "import numpy as np\n",
    "\n",
    "sys.path.append('pokemon_simulate')\n",
    "sys.path.append('DQNAgent_battle')"
   ]
  },
  {
   "cell_type": "code",
   "execution_count": 59,
   "metadata": {},
   "outputs": [],
   "source": [
    "import pokemon_simulate\n",
    "# from pokemon_simulate import *\n",
    "from DQNAgent_battle_dummy_controlled import *\n",
    "\n",
    "pokemon_simulate.VERBOSE = True"
   ]
  },
  {
   "cell_type": "code",
   "execution_count": 60,
   "metadata": {},
   "outputs": [],
   "source": [
    "def print_state(current_state):\n",
    "    print(f\"\"\"\n",
    "                == == == == == == == == =\n",
    "                Pokemon: {current_state[0].name}\n",
    "                == == == == == == == == =\n",
    "                Level: {current_state[0].level}\n",
    "                Types: {current_state[0].types}\n",
    "                HP: {current_state[0].current_hp}\n",
    "                Speed: {current_state[0].speed}\n",
    "                Attack: {current_state[0].attack}\n",
    "                Defense: {current_state[0].defense}\n",
    "                Sp.Attack: {current_state[0].special_attack}\n",
    "                Sp.Defense: {current_state[0].special_defense}\n",
    "                == == =\n",
    "                Moves\n",
    "                == == =\n",
    "                {[(move.name, move.current_pp, move.pp) for move in current_state[0].moves]}\n",
    "            \"\"\")\n",
    "    print(f\"\"\"\n",
    "                == == == == == == == == =\n",
    "                Pokemon: {current_state[1].name}\n",
    "                == == == == == == == == =\n",
    "                Level: {current_state[1].level}\n",
    "                Types: {current_state[1].types}\n",
    "                HP: {current_state[1].current_hp}\n",
    "                Speed: {current_state[1].speed}\n",
    "                Attack: {current_state[1].attack}\n",
    "                Defense: {current_state[1].defense}\n",
    "                Sp.Attack: {current_state[1].special_attack}\n",
    "                Sp.Defense: {current_state[1].special_defense}\n",
    "                == == =\n",
    "                Moves\n",
    "                == == =\n",
    "                {[(move.name, move.current_pp, move.pp) for move in current_state[1].moves]}\n",
    "            \"\"\")"
   ]
  },
  {
   "cell_type": "markdown",
   "metadata": {},
   "source": [
    "### Load model in memory"
   ]
  },
  {
   "cell_type": "code",
   "execution_count": 61,
   "metadata": {
    "scrolled": true
   },
   "outputs": [],
   "source": [
    "agent = DQNAgent()\n",
    "#agent.load_model(\"C:\\\\Users\\\\darth\\\\PycharmProjects\\\\pokemonBot\\\\battle\\\\models_battle\\\\episode_95031_reward___95.33_time__1605729383.model\")\n",
    "agent.load_model(\"C:\\\\Users\\\\darth\\\\PycharmProjects\\\\pokemonBot\\\\battle\\\\models_battle\\\\episode_156687_reward___97.33_time__1605769155.model\")\n",
    "env = BlobEnv(100)\n",
    "env.load_battles(r'battles_dummy_10000.pickle')\n"
   ]
  },
  {
   "cell_type": "code",
   "execution_count": 77,
   "metadata": {},
   "outputs": [
    {
     "name": "stdout",
     "output_type": "stream",
     "text": [
      "\n",
      "                == == == == == == == == =\n",
      "                Pokemon: pikachu\n",
      "                == == == == == == == == =\n",
      "                Level: 50\n",
      "                Types: [12, 0]\n",
      "                HP: 95\n",
      "                Speed: 95\n",
      "                Attack: 60\n",
      "                Defense: 45\n",
      "                Sp.Attack: 55\n",
      "                Sp.Defense: 55\n",
      "                == == =\n",
      "                Moves\n",
      "                == == =\n",
      "                [('thunder-shock', 30, 30), ('swift', 20, 20), ('thunder', 10, 10), ('quick-attack', 30, 30)]\n",
      "            \n",
      "\n",
      "                == == == == == == == == =\n",
      "                Pokemon: squirtle\n",
      "                == == == == == == == == =\n",
      "                Level: 50\n",
      "                Types: [10, 0]\n",
      "                HP: 104\n",
      "                Speed: 48\n",
      "                Attack: 53\n",
      "                Defense: 70\n",
      "                Sp.Attack: 55\n",
      "                Sp.Defense: 69\n",
      "                == == =\n",
      "                Moves\n",
      "                == == =\n",
      "                [('bite', 25, 25), ('water-gun', 25, 25), ('tackle', 35, 35), ('bubble', 30, 30)]\n",
      "            \n"
     ]
    }
   ],
   "source": [
    "## Custom battle ##\n",
    "pokemon_a = Pokemon('pikachu', 50)\n",
    "pokemon_b = Pokemon('squirtle', 50)\n",
    "#battle = env.battles[5]\n",
    "#pokemon_a = battle[0]\n",
    "#pokemon_b = battle[1]\n",
    "battle = (pokemon_a, pokemon_b)\n",
    "print_state(battle)"
   ]
  },
  {
   "cell_type": "markdown",
   "metadata": {},
   "source": [
    "## Battle"
   ]
  },
  {
   "cell_type": "code",
   "execution_count": 78,
   "metadata": {
    "scrolled": false
   },
   "outputs": [
    {
     "name": "stdout",
     "output_type": "stream",
     "text": [
      "Input: [[ 12.   0.  60.  45.  55.  69.  95.  84. 129.  87.  98.  30.  20.  10.\n",
      "   30.  -1.  -1.  -1.  -1. 100.  -1.  70. 100.  40.  60. 110.  40. 104.\n",
      "   10.   0.]]\n",
      "Prediction: [88.28215  87.758026 86.85488  90.68248 ]\n",
      "FIRST ATTACKER:\n",
      "a\n",
      "Pokemon a chooses quick-attack\n",
      "MODIFIER: 1.0\n",
      "pikachu damaged squirtle with quick-attack for 27.0 hp\n",
      "pikachu pp for quick-attack is 29/30\n",
      "squirtle hp is 77.0/104\n",
      "Pokemon b chooses tackle\n",
      "MODIFIER: 1.0\n",
      "squirtle damaged pikachu with tackle for 20.0 hp\n",
      "squirtle pp for tackle is 34/35\n",
      "pikachu hp is 75.0/95\n",
      "Input: [[ 12.   0.  60.  45.  55.  69.  95.  84. 129.  87.  98.  30.  20.  10.\n",
      "   29.  -1.  -1.  -1.  -1. 100.  -1.  70. 100.  40.  60. 110.  40.  77.\n",
      "   10.   0.]]\n",
      "Prediction: [82.60002 81.93758 80.76187 84.96619]\n",
      "FIRST ATTACKER:\n",
      "a\n",
      "Pokemon a chooses quick-attack\n",
      "MODIFIER: 1.0\n",
      "pikachu damaged squirtle with quick-attack for 16.0 hp\n",
      "pikachu pp for quick-attack is 28/30\n",
      "squirtle hp is 61.0/104\n",
      "Pokemon b chooses bubble\n",
      "MODIFIER: 1.0\n",
      "squirtle damaged pikachu with bubble for 25.0 hp\n",
      "squirtle pp for bubble is 29/30\n",
      "pikachu hp is 50.0/95\n",
      "Input: [[ 12.   0.  60.  45.  55.  69.  95.  84. 129.  87.  98.  30.  20.  10.\n",
      "   28.  -1.  -1.  -1.  -1. 100.  -1.  70. 100.  40.  60. 110.  40.  61.\n",
      "   10.   0.]]\n",
      "Prediction: [79.231415 78.51123  77.16717  81.517265]\n",
      "FIRST ATTACKER:\n",
      "a\n",
      "Pokemon a chooses quick-attack\n",
      "MODIFIER: 1.0\n",
      "pikachu damaged squirtle with quick-attack for 14.0 hp\n",
      "pikachu pp for quick-attack is 27/30\n",
      "squirtle hp is 47.0/104\n",
      "Pokemon b chooses bubble\n",
      "MODIFIER: 1.0\n",
      "squirtle damaged pikachu with bubble for 24.0 hp\n",
      "squirtle pp for bubble is 28/30\n",
      "pikachu hp is 26.0/95\n",
      "Input: [[ 12.   0.  60.  45.  55.  69.  95.  84. 129.  87.  98.  30.  20.  10.\n",
      "   27.  -1.  -1.  -1.  -1. 100.  -1.  70. 100.  40.  60. 110.  40.  47.\n",
      "   10.   0.]]\n",
      "Prediction: [76.28345 75.52017 74.02672 78.48056]\n",
      "FIRST ATTACKER:\n",
      "a\n",
      "Pokemon a chooses quick-attack\n",
      "MODIFIER: 1.0\n",
      "pikachu damaged squirtle with quick-attack for 16.0 hp\n",
      "pikachu pp for quick-attack is 26/30\n",
      "squirtle hp is 31.0/104\n",
      "Pokemon b chooses bubble\n",
      "MODIFIER: 1.0\n",
      "squirtle damaged pikachu with bubble for 26.0 hp\n",
      "squirtle pp for bubble is 27/30\n",
      "pikachu hp is 0.0/95\n"
     ]
    }
   ],
   "source": [
    "#battle = env.battles[2]\n",
    "#print_state(battle)\n",
    "current_state = battle\n",
    "while battle[0].current_hp > 0 and battle[1].current_hp >0:\n",
    "    env.battles = [battle]\n",
    "    action = np.argmax(agent.get_qs(current_state))\n",
    "    new_state, reward, done, outcome = env.step_real_battle(battle, action)\n",
    "    new_state = current_state\n",
    "    # print_state(new_state)"
   ]
  },
  {
   "cell_type": "markdown",
   "metadata": {},
   "source": [
    "## Machamp VS Snorlax"
   ]
  },
  {
   "cell_type": "code",
   "execution_count": null,
   "metadata": {},
   "outputs": [],
   "source": [
    "machamp = Pokemon('machamp')\n",
    "snorlax = Pokemon('snorlax')\n",
    "battle(machamp, snorlax)"
   ]
  },
  {
   "cell_type": "markdown",
   "metadata": {},
   "source": [
    "## Magikarp VS Mewtwo"
   ]
  },
  {
   "cell_type": "code",
   "execution_count": null,
   "metadata": {},
   "outputs": [],
   "source": [
    "magikarp = Pokemon('magikarp')\n",
    "mewtwo = Pokemon('mewtwo')\n",
    "battle(magikarp, mewtwo)"
   ]
  }
 ],
 "metadata": {
  "kernelspec": {
   "display_name": "Python 3",
   "language": "python",
   "name": "python3"
  },
  "language_info": {
   "codemirror_mode": {
    "name": "ipython",
    "version": 3
   },
   "file_extension": ".py",
   "mimetype": "text/x-python",
   "name": "python",
   "nbconvert_exporter": "python",
   "pygments_lexer": "ipython3",
   "version": "3.8.0"
  }
 },
 "nbformat": 4,
 "nbformat_minor": 4
}
