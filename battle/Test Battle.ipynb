{
 "cells": [
  {
   "cell_type": "markdown",
   "metadata": {},
   "source": [
    "# Example Battles\n",
    "\n",
    "This notebook demonstrates battles between Pokemon and shows the verbose output."
   ]
  },
  {
   "cell_type": "code",
   "execution_count": 1,
   "metadata": {},
   "outputs": [],
   "source": [
    "import sys\n",
    "\n",
    "import numpy as np\n",
    "\n",
    "sys.path.append('pokemon_simulate')\n",
    "sys.path.append('DQNAgent_battle')"
   ]
  },
  {
   "cell_type": "code",
   "execution_count": 2,
   "metadata": {},
   "outputs": [],
   "source": [
    "import pokemon_simulate\n",
    "from pokemon_simulate import *\n",
    "from DQNAgent_battle_dummy import *\n",
    "\n",
    "pokemon_simulate.VERBOSE = True"
   ]
  },
  {
   "cell_type": "code",
   "execution_count": 3,
   "metadata": {},
   "outputs": [],
   "source": [
    "def print_state(current_state):\n",
    "    print(f\"\"\"\n",
    "                == == == == == == == == =\n",
    "                Pokemon: {current_state[0].name}\n",
    "                == == == == == == == == =\n",
    "                Level: {current_state[0].level}\n",
    "                Types: {current_state[0].types}\n",
    "                HP: {current_state[0].current_hp}\n",
    "                Speed: {current_state[0].speed}\n",
    "                Attack: {current_state[0].attack}\n",
    "                Defense: {current_state[0].defense}\n",
    "                Sp.Attack: {current_state[0].special_attack}\n",
    "                Sp.Defense: {current_state[0].special_defense}\n",
    "                == == =\n",
    "                Moves\n",
    "                == == =\n",
    "                {[(move.name, move.current_pp, move.pp) for move in current_state[0].moves]}\n",
    "            \"\"\")\n",
    "    print(f\"\"\"\n",
    "                == == == == == == == == =\n",
    "                Pokemon: {current_state[1].name}\n",
    "                == == == == == == == == =\n",
    "                Level: {current_state[1].level}\n",
    "                Types: {current_state[1].types}\n",
    "                HP: {current_state[1].current_hp}\n",
    "                Speed: {current_state[1].speed}\n",
    "                Attack: {current_state[1].attack}\n",
    "                Defense: {current_state[1].defense}\n",
    "                Sp.Attack: {current_state[1].special_attack}\n",
    "                Sp.Defense: {current_state[1].special_defense}\n",
    "                == == =\n",
    "                Moves\n",
    "                == == =\n",
    "                {[(move.name, move.current_pp, move.pp) for move in current_state[1].moves]}\n",
    "            \"\"\")"
   ]
  },
  {
   "cell_type": "markdown",
   "metadata": {},
   "source": [
    "### Load model in memory"
   ]
  },
  {
   "cell_type": "code",
   "execution_count": 4,
   "metadata": {
    "scrolled": true
   },
   "outputs": [],
   "source": [
    "agent = DQNAgent()\n",
    "agent.load_model(\"C:\\\\Users\\\\darth\\\\PycharmProjects\\\\pokemonBot\\\\battle\\\\models_battle\\\\Yoyo__44102.47max_44102.47avg_44102.47min__1605264868.model\")\n",
    "env = BlobEnv(100)\n",
    "env.load_battles(r'battles_100.pickle')\n"
   ]
  },
  {
   "cell_type": "code",
   "execution_count": 9,
   "metadata": {},
   "outputs": [
    {
     "name": "stdout",
     "output_type": "stream",
     "text": [
      "\n",
      "                == == == == == == == == =\n",
      "                Pokemon: squirtle\n",
      "                == == == == == == == == =\n",
      "                Level: 50\n",
      "                Types: [10, 0]\n",
      "                HP: 104\n",
      "                Speed: 48\n",
      "                Attack: 53\n",
      "                Defense: 70\n",
      "                Sp.Attack: 55\n",
      "                Sp.Defense: 69\n",
      "                == == =\n",
      "                Moves\n",
      "                == == =\n",
      "                [('water-gun', 25, 25), ('skull-bash', 10, 10), ('tackle', 35, 35), ('bubble', 30, 30)]\n",
      "            \n",
      "\n",
      "                == == == == == == == == =\n",
      "                Pokemon: charmander\n",
      "                == == == == == == == == =\n",
      "                Level: 50\n",
      "                Types: [9, 0]\n",
      "                HP: 99\n",
      "                Speed: 70\n",
      "                Attack: 57\n",
      "                Defense: 48\n",
      "                Sp.Attack: 65\n",
      "                Sp.Defense: 55\n",
      "                == == =\n",
      "                Moves\n",
      "                == == =\n",
      "                [('fire-spin', 15, 15), ('slash', 20, 20), ('scratch', 35, 35), ('rage', 20, 20)]\n",
      "            \n"
     ]
    }
   ],
   "source": [
    "## Custom battle ##\n",
    "pokemon_a = Pokemon('squirtle', 50)\n",
    "pokemon_b = Pokemon('charmander', 50)\n",
    "battle = (pokemon_a, pokemon_b)\n",
    "print_state(battle)"
   ]
  },
  {
   "cell_type": "markdown",
   "metadata": {},
   "source": [
    "## Battle"
   ]
  },
  {
   "cell_type": "code",
   "execution_count": 10,
   "metadata": {},
   "outputs": [
    {
     "name": "stdout",
     "output_type": "stream",
     "text": [
      "Input: [[ 10.   0.  53.  70.  55.  55.  48.  55. 130.  33. 145.  25.  10.  35.\n",
      "   30.  -1.  -1.  -1.  -1. 100. 100. 100. 100.  40. 130.  40.  40.  99.\n",
      "    9.   0.]]\n",
      "Prediction: [295.77686 260.36722 280.9785  262.98032]\n",
      "FIRST ATTACKER:\n",
      "b\n",
      "Pokemon b chooses rage\n",
      "MODIFIER: 1.0\n",
      "charmander damaged squirtle with rage for 7.0 hp\n",
      "charmander pp for rage is 19/20\n",
      "squirtle hp is 97.0/104\n",
      "Pokemon a chooses water-gun\n",
      "MODIFIER: 2.0\n",
      "squirtle damaged charmander with water-gun for 47.0 hp\n",
      "squirtle pp for water-gun is 24/25\n",
      "charmander hp is 52.0/99\n",
      "Input: [[ 10.   0.  53.  70.  55.  55.  48.  55. 130.  33. 145.  24.  10.  35.\n",
      "   30.  -1.  -1.  -1.  -1. 100. 100. 100. 100.  40. 130.  40.  40.  52.\n",
      "    9.   0.]]\n",
      "Prediction: [301.51007 297.34784 306.5192  299.43442]\n",
      "FIRST ATTACKER:\n",
      "b\n",
      "Pokemon b chooses rage\n",
      "MODIFIER: 1.0\n",
      "charmander damaged squirtle with rage for 8.0 hp\n",
      "charmander pp for rage is 18/20\n",
      "squirtle hp is 89.0/104\n",
      "Pokemon a chooses tackle\n",
      "MODIFIER: 1.0\n",
      "squirtle damaged charmander with tackle for 20.0 hp\n",
      "squirtle pp for tackle is 34/35\n",
      "charmander hp is 32.0/99\n",
      "Input: [[ 10.   0.  53.  70.  55.  55.  48.  55. 130.  33. 145.  24.  10.  34.\n",
      "   30.  -1.  -1.  -1.  -1. 100. 100. 100. 100.  40. 130.  40.  40.  32.\n",
      "    9.   0.]]\n",
      "Prediction: [305.03705 313.7059  317.25034 314.28937]\n",
      "FIRST ATTACKER:\n",
      "b\n",
      "Pokemon b chooses rage\n",
      "MODIFIER: 1.0\n",
      "charmander damaged squirtle with rage for 7.0 hp\n",
      "charmander pp for rage is 17/20\n",
      "squirtle hp is 82.0/104\n",
      "Pokemon a chooses tackle\n",
      "MODIFIER: 1.0\n",
      "squirtle damaged charmander with tackle for 18.0 hp\n",
      "squirtle pp for tackle is 33/35\n",
      "charmander hp is 14.0/99\n",
      "Input: [[ 10.   0.  53.  70.  55.  55.  48.  55. 130.  33. 145.  24.  10.  33.\n",
      "   30.  -1.  -1.  -1.  -1. 100. 100. 100. 100.  40. 130.  40.  40.  14.\n",
      "    9.   0.]]\n",
      "Prediction: [308.25165 328.4459  326.81302 327.58875]\n",
      "FIRST ATTACKER:\n",
      "b\n",
      "Pokemon b chooses fire-spin\n",
      "MODIFIER: 0.5\n",
      "charmander damaged squirtle with fire-spin for 10.0 hp\n",
      "charmander pp for fire-spin is 14/15\n",
      "squirtle hp is 72.0/104\n",
      "Pokemon a chooses skull-bash\n",
      "MODIFIER: 1.0\n",
      "squirtle damaged charmander with skull-bash for 61.0 hp\n",
      "squirtle pp for skull-bash is 9/10\n",
      "charmander hp is -47.0/99\n"
     ]
    }
   ],
   "source": [
    "#battle = env.battles[2]\n",
    "#print_state(battle)\n",
    "current_state = battle\n",
    "while battle[0].current_hp > 0 and battle[1].current_hp >0:\n",
    "    env.battles = [battle]\n",
    "    action = np.argmax(agent.get_qs(current_state))\n",
    "    new_state, reward, done, outcome = env.step_real_battle(battle, action)\n",
    "    new_state = current_state\n",
    "    # print_state(new_state)"
   ]
  },
  {
   "cell_type": "markdown",
   "metadata": {},
   "source": [
    "## Machamp VS Snorlax"
   ]
  },
  {
   "cell_type": "code",
   "execution_count": null,
   "metadata": {},
   "outputs": [],
   "source": [
    "machamp = Pokemon('machamp')\n",
    "snorlax = Pokemon('snorlax')\n",
    "battle(machamp, snorlax)"
   ]
  },
  {
   "cell_type": "markdown",
   "metadata": {},
   "source": [
    "## Magikarp VS Mewtwo"
   ]
  },
  {
   "cell_type": "code",
   "execution_count": null,
   "metadata": {},
   "outputs": [],
   "source": [
    "magikarp = Pokemon('magikarp')\n",
    "mewtwo = Pokemon('mewtwo')\n",
    "battle(magikarp, mewtwo)"
   ]
  }
 ],
 "metadata": {
  "kernelspec": {
   "display_name": "Python 3",
   "language": "python",
   "name": "python3"
  },
  "language_info": {
   "codemirror_mode": {
    "name": "ipython",
    "version": 3
   },
   "file_extension": ".py",
   "mimetype": "text/x-python",
   "name": "python",
   "nbconvert_exporter": "python",
   "pygments_lexer": "ipython3",
   "version": "3.8.0"
  }
 },
 "nbformat": 4,
 "nbformat_minor": 4
}
