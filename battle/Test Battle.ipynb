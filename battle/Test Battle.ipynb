{
 "cells": [
  {
   "cell_type": "markdown",
   "metadata": {},
   "source": [
    "# Example Battles\n",
    "\n",
    "This notebook demonstrates battles between Pokemon and shows the verbose output."
   ]
  },
  {
   "cell_type": "code",
   "execution_count": 1,
   "metadata": {},
   "outputs": [],
   "source": [
    "import sys\n",
    "\n",
    "import numpy as np\n",
    "\n",
    "sys.path.append('pokemon_simulate')\n",
    "sys.path.append('DQNAgent_battle')"
   ]
  },
  {
   "cell_type": "code",
   "execution_count": 2,
   "metadata": {},
   "outputs": [],
   "source": [
    "import pokemon_simulate\n",
    "# from pokemon_simulate import *\n",
    "from DQNAgent_dummy import *\n",
    "from dummy_helpers import *\n",
    "from train_helpers import *\n",
    "\n",
    "pokemon_simulate.VERBOSE = True"
   ]
  },
  {
   "cell_type": "markdown",
   "metadata": {},
   "source": [
    "### Load model in memory"
   ]
  },
  {
   "cell_type": "code",
   "execution_count": 3,
   "metadata": {
    "scrolled": true
   },
   "outputs": [],
   "source": [
    "agent = DQNAgent()\n",
    "#agent.load_model(\"C:\\\\Users\\\\darth\\\\PycharmProjects\\\\pokemonBot\\\\battle\\\\models_battle\\\\episode_95031_reward___95.33_time__1605729383.model\")\n",
    "agent.load_model(f\"C:\\\\Users\\\\darth\\\\PycharmProjects\\\\pokemonBot\\\\battle\\\\models_battle\\\\episode_146169_reward___97.00_time__1605901938.model\")\n",
    "env = BlobEnv(100,0)\n",
    "env.load_battles(r'battles_dummy_10000.pickle')\n"
   ]
  },
  {
   "cell_type": "code",
   "execution_count": 13,
   "metadata": {},
   "outputs": [
    {
     "name": "stdout",
     "output_type": "stream",
     "text": [
      "\n",
      "                == == == == == == == == =\n",
      "                Pokemon: squirtle\n",
      "                == == == == == == == == =\n",
      "                Level: 50\n",
      "                Types: [10, 0]\n",
      "                HP: 104\n",
      "                Speed: 48\n",
      "                Attack: 53\n",
      "                Defense: 70\n",
      "                Sp.Attack: 55\n",
      "                Sp.Defense: 69\n",
      "                == == =\n",
      "                Moves\n",
      "                == == =\n",
      "                [('tackle', 35, 35), ('hydro-pump', 5, 5), ('skull-bash', 10, 10), ('bite', 25, 25)]\n",
      "            \n",
      "\n",
      "                == == == == == == == == =\n",
      "                Pokemon: charmander\n",
      "                == == == == == == == == =\n",
      "                Level: 50\n",
      "                Types: [9, 0]\n",
      "                HP: 99\n",
      "                Speed: 70\n",
      "                Attack: 57\n",
      "                Defense: 48\n",
      "                Sp.Attack: 65\n",
      "                Sp.Defense: 55\n",
      "                == == =\n",
      "                Moves\n",
      "                == == =\n",
      "                [('ember', 25, 25), ('slash', 20, 20), ('scratch', 35, 35), ('flamethrower', 15, 15)]\n",
      "            \n"
     ]
    }
   ],
   "source": [
    "## Custom battle ##\n",
    "pokemon_a = Pokemon('squirtle', 50)\n",
    "pokemon_b = Pokemon('charmander', 50)\n",
    "#battle = env.battles[5]\n",
    "#pokemon_a = battle[0]\n",
    "#pokemon_b = battle[1]\n",
    "battle = (pokemon_a, pokemon_b)\n",
    "print_state(battle)"
   ]
  },
  {
   "cell_type": "markdown",
   "metadata": {},
   "source": [
    "## Battle"
   ]
  },
  {
   "cell_type": "code",
   "execution_count": 12,
   "metadata": {
    "scrolled": true
   },
   "outputs": [
    {
     "name": "stdout",
     "output_type": "stream",
     "text": [
      "Input state: [[ 10.   0.  53.  70.  55.  69.  48.  25.  -1. 100.  40.  30.  -1. 100.\n",
      "   40.  10.  -1. 100. 130.  25.  -1. 100.  60.  99.   9.   0.]]\n",
      "Prediction: [31.730448 31.583958 48.179348 38.04774 ]\n",
      "FIRST ATTACKER:\n",
      "b\n",
      "Pokemon b chooses rage\n",
      "MODIFIER: 1.0\n",
      "charmander damaged squirtle with rage for 8.0 hp\n",
      "charmander pp for rage is 19/20\n",
      "squirtle hp is 96.0/104\n",
      "Pokemon a chooses skull-bash\n",
      "MODIFIER: 1.0\n",
      "squirtle damaged charmander with skull-bash for 63.0 hp\n",
      "squirtle pp for skull-bash is 9/10\n",
      "charmander hp is 36.0/99\n",
      "Input state: [[ 10.   0.  53.  70.  55.  69.  48.  25.  -1. 100.  40.  30.  -1. 100.\n",
      "   40.   9.  -1. 100. 130.  25.  -1. 100.  60.  36.   9.   0.]]\n",
      "Prediction: [10.068523  9.008805 23.802439 18.47104 ]\n",
      "FIRST ATTACKER:\n",
      "b\n",
      "Pokemon b chooses slash\n",
      "MODIFIER: 1.0\n",
      "charmander damaged squirtle with slash for 46.0 hp\n",
      "charmander pp for slash is 19/20\n",
      "squirtle hp is 50.0/104\n",
      "Pokemon a chooses skull-bash\n",
      "MODIFIER: 1.0\n",
      "squirtle damaged charmander with skull-bash for 55.0 hp\n",
      "squirtle pp for skull-bash is 8/10\n",
      "charmander hp is -19.0/99\n"
     ]
    }
   ],
   "source": [
    "#battle = env.battles[2]\n",
    "#print_state(battle)\n",
    "current_state = battle\n",
    "while battle[0].current_hp > 0 and battle[1].current_hp >0:\n",
    "    env.battles = [battle]\n",
    "    action = np.argmax(agent.get_qs(current_state))\n",
    "    new_state, reward, done, outcome = env.step_real_battle(battle, action)\n",
    "    current_state = new_state\n",
    "    # print_state(new_state)"
   ]
  },
  {
   "cell_type": "markdown",
   "metadata": {},
   "source": [
    "## Machamp VS Snorlax"
   ]
  },
  {
   "cell_type": "code",
   "execution_count": null,
   "metadata": {},
   "outputs": [],
   "source": [
    "machamp = Pokemon('machamp')\n",
    "snorlax = Pokemon('snorlax')\n",
    "battle(machamp, snorlax)"
   ]
  },
  {
   "cell_type": "markdown",
   "metadata": {},
   "source": [
    "## Magikarp VS Mewtwo"
   ]
  },
  {
   "cell_type": "code",
   "execution_count": null,
   "metadata": {},
   "outputs": [],
   "source": [
    "magikarp = Pokemon('magikarp')\n",
    "mewtwo = Pokemon('mewtwo')\n",
    "battle(magikarp, mewtwo)"
   ]
  }
 ],
 "metadata": {
  "kernelspec": {
   "display_name": "Python 3",
   "language": "python",
   "name": "python3"
  },
  "language_info": {
   "codemirror_mode": {
    "name": "ipython",
    "version": 3
   },
   "file_extension": ".py",
   "mimetype": "text/x-python",
   "name": "python",
   "nbconvert_exporter": "python",
   "pygments_lexer": "ipython3",
   "version": "3.8.0"
  }
 },
 "nbformat": 4,
 "nbformat_minor": 4
}
