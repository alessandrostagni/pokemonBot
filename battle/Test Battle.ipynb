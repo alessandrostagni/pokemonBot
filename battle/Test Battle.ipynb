{
 "cells": [
  {
   "cell_type": "markdown",
   "metadata": {},
   "source": [
    "# Example Battles\n",
    "\n",
    "This notebook demonstrates battles between Pokemon and shows the verbose output."
   ]
  },
  {
   "cell_type": "code",
   "execution_count": 1,
   "metadata": {},
   "outputs": [],
   "source": [
    "import sys\n",
    "\n",
    "import numpy as np\n",
    "\n",
    "sys.path.append('pokemon_simulate')\n",
    "sys.path.append('DQNAgent_battle')"
   ]
  },
  {
   "cell_type": "code",
   "execution_count": 2,
   "metadata": {},
   "outputs": [],
   "source": [
    "import pokemon_simulate\n",
    "# from pokemon_simulate import *\n",
    "from DQNAgent_dummy import *\n",
    "from dummy_helpers import *\n",
    "from train_helpers import *\n",
    "\n",
    "pokemon_simulate.VERBOSE = True"
   ]
  },
  {
   "cell_type": "markdown",
   "metadata": {},
   "source": [
    "### Load model in memory"
   ]
  },
  {
   "cell_type": "code",
   "execution_count": 3,
   "metadata": {
    "scrolled": true
   },
   "outputs": [],
   "source": [
    "agent = DQNAgent()\n",
    "agent.load_model(f\"C:\\\\Users\\\\darth\\\\PycharmProjects\\\\pokemonBot\\\\battle\\\\models_battle\\\\episode_187587_reward___96.67_time__1605926437.model\")\n",
    "env = BlobEnv(100,0)\n",
    "env.load_battles(r'battles_dummy_10000.pickle')\n"
   ]
  },
  {
   "cell_type": "code",
   "execution_count": 4,
   "metadata": {},
   "outputs": [
    {
     "name": "stdout",
     "output_type": "stream",
     "text": [
      "\n",
      "                == == == == == == == == =\n",
      "                Pokemon: charmander\n",
      "                == == == == == == == == =\n",
      "                Level: 50\n",
      "                Types: [9, 0]\n",
      "                HP: 99\n",
      "                Speed: 70\n",
      "                Attack: 57\n",
      "                Defense: 48\n",
      "                Sp.Attack: 65\n",
      "                Sp.Defense: 55\n",
      "                == == =\n",
      "                Moves\n",
      "                == == =\n",
      "                [('slash', 20, 20), ('flamethrower', 15, 15), ('scratch', 35, 35), ('ember', 25, 25)]\n",
      "            \n",
      "\n",
      "                == == == == == == == == =\n",
      "                Pokemon: bulbasaur\n",
      "                == == == == == == == == =\n",
      "                Level: 50\n",
      "                Types: [7, 11]\n",
      "                HP: 105\n",
      "                Speed: 50\n",
      "                Attack: 54\n",
      "                Defense: 54\n",
      "                Sp.Attack: 70\n",
      "                Sp.Defense: 70\n",
      "                == == =\n",
      "                Moves\n",
      "                == == =\n",
      "                [('tackle', 35, 35), ('solar-beam', 10, 10), ('razor-leaf', 25, 25), ('vine-whip', 25, 25)]\n",
      "            \n"
     ]
    }
   ],
   "source": [
    "## Custom battle ##\n",
    "pokemon_a = Pokemon('charmander', 50)\n",
    "pokemon_b = Pokemon('bulbasaur', 50)\n",
    "#battle = env.battles[5]\n",
    "#pokemon_a = battle[0]\n",
    "#pokemon_b = battle[1]\n",
    "battle = (pokemon_a, pokemon_b)\n",
    "print_state(battle)"
   ]
  },
  {
   "cell_type": "markdown",
   "metadata": {},
   "source": [
    "## Battle"
   ]
  },
  {
   "cell_type": "code",
   "execution_count": 5,
   "metadata": {
    "scrolled": true
   },
   "outputs": [
    {
     "name": "stdout",
     "output_type": "stream",
     "text": [
      "Input state: [[  9.   0.  57.  48.  65.  55.  70.  20.  -1. 100.  70.  15.  -1. 100.\n",
      "   90.  35.  -1. 100.  40.  25.  -1. 100.  40. 105.   7.  11.]]\n",
      "Prediction: [42.159225 40.31706  26.912937 24.378544]\n",
      "FIRST ATTACKER:\n",
      "a\n",
      "Pokemon a chooses slash\n",
      "MODIFIER: 1.0\n",
      "charmander damaged bulbasaur with slash for 61.0 hp\n",
      "charmander pp for slash is 19/20\n",
      "bulbasaur hp is 44.0/105\n",
      "Pokemon b chooses vine-whip\n",
      "MODIFIER: 0.5\n",
      "bulbasaur damaged charmander with vine-whip for 16.0 hp\n",
      "bulbasaur pp for vine-whip is 24/25\n",
      "charmander hp is 83.0/99\n",
      "Input state: [[  9.   0.  57.  48.  65.  55.  70.  19.  -1. 100.  70.  15.  -1. 100.\n",
      "   90.  35.  -1. 100.  40.  25.  -1. 100.  40.  44.   7.  11.]]\n",
      "Prediction: [16.264185  13.990805   1.1522293 -4.944522 ]\n",
      "FIRST ATTACKER:\n",
      "a\n",
      "Pokemon a chooses slash\n",
      "MODIFIER: 1.0\n",
      "charmander damaged bulbasaur with slash for 62.0 hp\n",
      "charmander pp for slash is 18/20\n",
      "bulbasaur hp is -18.0/105\n"
     ]
    }
   ],
   "source": [
    "#battle = env.battles[2]\n",
    "#print_state(battle)\n",
    "current_state = battle\n",
    "while battle[0].current_hp > 0 and battle[1].current_hp >0:\n",
    "    env.battles = [battle]\n",
    "    action = np.argmax(agent.get_qs(current_state))\n",
    "    new_state, reward, done, outcome = env.step_real_battle(battle, action)\n",
    "    current_state = new_state\n",
    "    # print_state(new_state)"
   ]
  },
  {
   "cell_type": "markdown",
   "metadata": {},
   "source": [
    "## Machamp VS Snorlax"
   ]
  },
  {
   "cell_type": "code",
   "execution_count": null,
   "metadata": {},
   "outputs": [],
   "source": [
    "machamp = Pokemon('machamp')\n",
    "snorlax = Pokemon('snorlax')\n",
    "battle(machamp, snorlax)"
   ]
  },
  {
   "cell_type": "markdown",
   "metadata": {},
   "source": [
    "## Magikarp VS Mewtwo"
   ]
  },
  {
   "cell_type": "code",
   "execution_count": null,
   "metadata": {},
   "outputs": [],
   "source": [
    "magikarp = Pokemon('magikarp')\n",
    "mewtwo = Pokemon('mewtwo')\n",
    "battle(magikarp, mewtwo)"
   ]
  }
 ],
 "metadata": {
  "kernelspec": {
   "display_name": "Python 3",
   "language": "python",
   "name": "python3"
  },
  "language_info": {
   "codemirror_mode": {
    "name": "ipython",
    "version": 3
   },
   "file_extension": ".py",
   "mimetype": "text/x-python",
   "name": "python",
   "nbconvert_exporter": "python",
   "pygments_lexer": "ipython3",
   "version": "3.8.0"
  }
 },
 "nbformat": 4,
 "nbformat_minor": 4
}
